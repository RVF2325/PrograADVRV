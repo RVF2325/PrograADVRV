{
 "cells": [
  {
   "cell_type": "markdown",
   "metadata": {},
   "source": [
    "# Proyecto Cine"
   ]
  },
  {
   "cell_type": "code",
   "execution_count": 1,
   "metadata": {},
   "outputs": [],
   "source": [
    "class Persona:\n",
    "\n",
    "    lista=[]\n",
    "    \n",
    "    def __init__(self,nombre,correo):\n",
    "        self.nombre=nombre\n",
    "        self.correo=correo\n",
    "\n",
    "    def registrar(self):\n",
    "        Persona.lista.append(self)\n",
    "        print(f\"La persona {self.nombre} ha sido registrada con el correo {self.correo}\")\n",
    "\n",
    "    def actualizar_datos(self,nombre,correo):\n",
    "        self.nombre=nombre\n",
    "        self.correo=correo\n",
    "        print(f\"Los datos han sido actualizados\")\n",
    "\n",
    "    @classmethod\n",
    "    def personas_registradas(cls):\n",
    "        print(\"Personas registradas\")\n",
    "        for Persona in cls.lista:\n",
    "            print(f\"-{Persona.nombre} - {Persona.correo}\")"
   ]
  },
  {
   "cell_type": "code",
   "execution_count": 2,
   "metadata": {},
   "outputs": [],
   "source": [
    "class Usuario(Persona):\n",
    "    def __init__(self, nombre, correo):\n",
    "        super().__init__(nombre, correo)\n",
    "        self.historial_reservas = []\n",
    "\n",
    "    def reservar(self, funcion, asientos,promocion=None):\n",
    "        if asientos <= funcion.asientos_disponibles:\n",
    "            funcion.asientos_disponibles -= asientos\n",
    "            self.historial_reservas.append({\"funcion\": funcion, \"asientos\": asientos,\"promocion\": promocion})\n",
    "            print(f\"Reserva realizada para '{funcion.pelicula.titulo}' en la sala {funcion.sala.identificador}. Precio total:$40.00\")\n",
    "        else:\n",
    "            print(\"No hay suficientes asientos disponibles.\")\n",
    "\n",
    "    def cancelar_reserva(self, funcion):\n",
    "        reserva = next((r for r in self.historial_reservas if r[\"funcion\"] == funcion), None)\n",
    "        if reserva:\n",
    "            funcion.asientos_disponibles += reserva[\"asientos\"]\n",
    "            self.historial_reservas.remove(reserva)\n",
    "            print(f\"Reserva cancelada para {funcion.pelicula.titulo}.\")\n",
    "        else:\n",
    "            print(\"No tienes una reserva para esta función.\")\n"
   ]
  },
  {
   "cell_type": "code",
   "execution_count": 3,
   "metadata": {},
   "outputs": [],
   "source": [
    "class Empleado(Persona):\n",
    "    def __init__(self, nombre, correo, rol):\n",
    "        super().__init__(nombre, correo)\n",
    "        self.rol = rol\n",
    "\n",
    "    def agregar_funcion(self, funcion):\n",
    "        print(f\"Función agregada: {funcion.pelicula.titulo} a las {funcion.hora} en la sala {funcion.sala.identificador}.\")\n",
    "\n",
    "    def modificar_promocion(self, promocion, nuevo_descuento, nuevas_condiciones):\n",
    "        promocion.descuento = nuevo_descuento\n",
    "        promocion.condiciones = nuevas_condiciones\n",
    "        print(f\"Promoción modificada: {nuevo_descuento}% de descuento. {nuevas_condiciones}.\")\n",
    "\n"
   ]
  },
  {
   "cell_type": "code",
   "execution_count": 4,
   "metadata": {},
   "outputs": [],
   "source": [
    "class Espacio:\n",
    "    def __init__(self,capacidad,identificador):\n",
    "        self.capacidad=capacidad\n",
    "        self.identificador=identificador\n",
    "    \n",
    "    def descripcion(self):\n",
    "        print(f\"El edificio tiene tamaño {self.capacidad} y tiene id {self.identificador}\")"
   ]
  },
  {
   "cell_type": "code",
   "execution_count": 5,
   "metadata": {},
   "outputs": [],
   "source": [
    "class Sala(Espacio):\n",
    "    def __init__(self,capacidad,identificador,tipo):\n",
    "        super().__init__(capacidad,identificador)\n",
    "        self.tipo=tipo\n",
    "        self.disponibilidad=True\n",
    "\n",
    "    def Consultardisponibilidad(self):\n",
    "        if self.disponibilidad:\n",
    "            print(\"La sala esta disponible\")\n",
    "        else:\n",
    "            print(\"La sala esta ocupada\")"
   ]
  },
  {
   "cell_type": "code",
   "execution_count": 6,
   "metadata": {},
   "outputs": [],
   "source": [
    "class ZonaComida(Espacio):\n",
    "    def __init__(self, capacidad, identificador,menu,insumos,precios):\n",
    "        super().__init__(capacidad, identificador)\n",
    "        self.menu=menu\n",
    "        self.insumos=insumos\n",
    "        self.precios=precios\n",
    "        self.ventas = []\n",
    "\n",
    "    def agregar_producto(self,producto,cantidad,precio):\n",
    "        if producto not in self.menu:\n",
    "            self.menu[producto]=cantidad\n",
    "            self.precios[producto]=precio\n",
    "            print(f\"Producto {producto} agregado con {cantidad} unidades al menú\")\n",
    "        else:\n",
    "            self.menu[producto]+=cantidad\n",
    "            print(f\"Producto {producto} tiene {self.menu[producto]} unidades en el menú\")\n",
    "\n",
    "    def vender_producto(self,producto,cantidad):\n",
    "        if producto in self.menu and self.menu[producto]>=cantidad:\n",
    "            self.menu[producto]-=cantidad\n",
    "            precio_total=self.precios[producto]*cantidad\n",
    "            self.ventas.append({\"producto\":producto,\"cantidad\":cantidad,\"precio_total\":precio_total})\n",
    "            print(f\"venta hecha: {cantidad} unidades de {producto} por un total de ${precio_total}\")\n",
    "        else:\n",
    "            print(f\"No hay suficientes unidades de {producto} para hacer la venta\")\n",
    "\n",
    "    def mostrar_ventas(self):\n",
    "        print(\"ventas realizadas\")\n",
    "        for venta in self.ventas:\n",
    "            print(f\"Producto: {venta['producto']}, Cantidad: {venta['cantidad']}, Precio total: ${venta['precio_total']}\")\n",
    "\n",
    "    def mostrar_menu(self):\n",
    "        print(\"Menu disponible\")\n",
    "        for producto, cantidad in self.menu.items():\n",
    "            precio=self.precios[producto]\n",
    "            print(f\"{producto}:{cantidad} unidades, ${precio} cada uno\")"
   ]
  },
  {
   "cell_type": "code",
   "execution_count": 7,
   "metadata": {},
   "outputs": [],
   "source": [
    "class Pelicula:\n",
    "    def __init__(self, titulo, genero, duracion):\n",
    "        self.titulo = titulo\n",
    "        self.genero = genero\n",
    "        self.duracion = duracion\n"
   ]
  },
  {
   "cell_type": "code",
   "execution_count": 8,
   "metadata": {},
   "outputs": [],
   "source": [
    "class Funcion:\n",
    "    def __init__(self, pelicula, sala, hora, asientos_disponibles=None):\n",
    "        self.pelicula = pelicula\n",
    "        self.sala = sala\n",
    "        self.hora = hora\n",
    "        self.asientos_disponibles = asientos_disponibles or sala.capacidad\n"
   ]
  },
  {
   "cell_type": "code",
   "execution_count": 9,
   "metadata": {},
   "outputs": [],
   "source": [
    "class Promocion:\n",
    "    def __init__(self, descuento, condiciones):\n",
    "        self.descuento = descuento\n",
    "        self.condiciones = condiciones\n",
    "\n",
    "    def mostrar(self):\n",
    "        print(f\"Promoción: {self.descuento}% de descuento. Condiciones: {self.condiciones}\")\n",
    "\n"
   ]
  },
  {
   "cell_type": "code",
   "execution_count": 10,
   "metadata": {},
   "outputs": [],
   "source": [
    "class Reserva:\n",
    "    def __init__(self,usuario,funcion,asientos,promocion=None):\n",
    "        super().__init__(usuario,funcion,asientos,promocion)\n",
    "        self.confirmacion = False\n",
    "        self.precio_total = self.calcular_finprecio()\n",
    "    \n",
    "    def calcular_finprecio(self):\n",
    "        precio_asiento=20\n",
    "        precio_base=self.asientos + precio_asiento\n",
    "        if self.promocion:\n",
    "            descuento=self.promocion.descuento\n",
    "            precio_total = precio_base*(1-descuento/100)\n",
    "            print(f\"Aplicando el descuento de {descuento}%. Precio total:{precio_total}\")\n",
    "\n",
    "        else:\n",
    "            precio_total=precio_base\n",
    "        return precio_total\n",
    "    \n",
    "    def realizar_reserva(self):\n",
    "        if self.confirmar:\n",
    "            self.funcion.asientos_disponibles\n",
    "            self.confirmada = True\n",
    "            print(f\"Reserva realiza para {self.asientos} asientos en {self.funcion.pelicula.titulo} a las {self.funcion.hora}.Precio total a pagar: ${self.precio_total:,2f}\")\n",
    "        else:\n",
    "            print(\"No hay asientos disponibles\")\n",
    "\n",
    "    def cancelar_reserva(self):\n",
    "        if self.confirmar:\n",
    "            self.funcion.asientos_disponibles += self.asientos\n",
    "            self.confirmada = False\n",
    "            print(f\"Reserva cancelada para {self.funcion.pelicula.titulo}\")\n",
    "        else:\n",
    "            print(\"No hay ninguna reserva para cancelar\")    "
   ]
  },
  {
   "cell_type": "code",
   "execution_count": 11,
   "metadata": {},
   "outputs": [
    {
     "name": "stdout",
     "output_type": "stream",
     "text": [
      "La persona Ana Pérez ha sido registrada con el correo ana.perez@email.com\n",
      "La persona Luis Martínez ha sido registrada con el correo luis.martinez@email.com\n",
      "Producto Pollo rostizado agregado con 20 unidades al menú\n",
      "Producto Palomitas agregado con 50 unidades al menú\n",
      "Menu disponible\n",
      "Pollo rostizado:20 unidades, $15.0 cada uno\n",
      "Palomitas:50 unidades, $5.0 cada uno\n",
      "No hay suficientes unidades de Bowl de leche con pollo rostizado para hacer la venta\n",
      "ventas realizadas\n",
      "Menu disponible\n",
      "Pollo rostizado:20 unidades, $15.0 cada uno\n",
      "Palomitas:50 unidades, $5.0 cada uno\n",
      "Promoción: 20% de descuento. Condiciones: Válido de lunes a jueves.\n",
      "Promoción modificada: 30% de descuento. Válido todos los días antes de las 5 PM..\n",
      "Reserva realizada para 'Matrix' en la sala Sala 1. Precio total:$40.00\n",
      "Reserva cancelada para Matrix.\n",
      "Personas registradas\n",
      "-Ana Pérez - ana.perez@email.com\n",
      "-Luis Martínez - luis.martinez@email.com\n"
     ]
    }
   ],
   "source": [
    "pelicula1 = Pelicula(\"Matrix\", \"Ciencia Ficción\", 136)\n",
    "pelicula2 = Pelicula(\"Titanic\", \"Drama/Romance\", 195)\n",
    "\n",
    "sala1 = Sala(100,\"Sala 1\",\"3DX\")\n",
    "sala2 = Sala(50,\"Sala 2\",\"Tradicional\")\n",
    "\n",
    "funcion1 = Funcion(pelicula1, sala1, \"18:00\")\n",
    "funcion2 = Funcion(pelicula2, sala2, \"20:00\")\n",
    "\n",
    "usuario1 = Usuario(\"Ana Pérez\", \"ana.perez@email.com\")\n",
    "empleado1 = Empleado(\"Luis Martínez\", \"luis.martinez@email.com\", \"Gerente\")\n",
    "\n",
    "usuario1.registrar()\n",
    "empleado1.registrar()\n",
    "\n",
    "zona_comida = ZonaComida(50, \"Zona 1\", {}, {}, {})\n",
    "zona_comida.agregar_producto(\"Pollo rostizado\", 20, 15.00)\n",
    "zona_comida.agregar_producto(\"Palomitas\", 50, 5.00)\n",
    "zona_comida.mostrar_menu()\n",
    "zona_comida.vender_producto(\"Bowl de leche con pollo rostizado\", 5)\n",
    "zona_comida.mostrar_ventas()\n",
    "zona_comida.mostrar_menu()\n",
    "\n",
    "promocion1 = Promocion(20, \"Válido de lunes a jueves.\")\n",
    "promocion1.mostrar()\n",
    "empleado1.modificar_promocion(promocion1, 30, \"Válido todos los días antes de las 5 PM.\")\n",
    "\n",
    "usuario1.reservar(funcion1, 3, promocion1)\n",
    "usuario1.cancelar_reserva(funcion1)\n",
    "\n",
    "Persona.personas_registradas()"
   ]
  }
 ],
 "metadata": {
  "kernelspec": {
   "display_name": "Python 3",
   "language": "python",
   "name": "python3"
  },
  "language_info": {
   "codemirror_mode": {
    "name": "ipython",
    "version": 3
   },
   "file_extension": ".py",
   "mimetype": "text/x-python",
   "name": "python",
   "nbconvert_exporter": "python",
   "pygments_lexer": "ipython3",
   "version": "3.13.1"
  }
 },
 "nbformat": 4,
 "nbformat_minor": 2
}
