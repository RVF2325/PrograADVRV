{
 "cells": [
  {
   "cell_type": "markdown",
   "metadata": {},
   "source": [
    "# Gestion de Pedidos de una Cafeteria"
   ]
  },
  {
   "cell_type": "code",
   "execution_count": 36,
   "metadata": {},
   "outputs": [],
   "source": [
    "class Persona:\n",
    "\n",
    "    lista=[]\n",
    "\n",
    "    def __init__(self,nombre,correo):\n",
    "        self.nombre = nombre\n",
    "        self.correo = correo\n",
    "    \n",
    "    def registrar(self):\n",
    "        Persona.lista.append(self)\n",
    "        print(f\"La persona {self.nombre} fue registrada con el correo {self.correo}\")\n",
    "\n",
    "    def actualizar_datos(self,nombre,correo):\n",
    "        self.nombre=nombre\n",
    "        self.correo=correo\n",
    "        print(f\"Los datos han sido actualizados\")\n",
    "\n",
    "    @classmethod\n",
    "    def personas_registradas(cls):\n",
    "        print(\"Personas registradas\")\n",
    "        for Persona in cls.lista:\n",
    "            print(f\"-{Persona.nombre} - {Persona.correo}\")       "
   ]
  },
  {
   "cell_type": "code",
   "execution_count": 37,
   "metadata": {},
   "outputs": [],
   "source": [
    "class Cliente(Persona):\n",
    "    def __init__(self,nombre,correo):\n",
    "        super().__init__(nombre,correo)\n",
    "        self.consultar_historial = []\n",
    "\n",
    "    def hacer_pedido(self,producto,cantidad, inventario):\n",
    "        if inventario.checar_stock(producto, cantidad):\n",
    "            inventario.actualizar_stock(producto, cantidad)\n",
    "            self.consultar_historial.append({\"producto\": producto, \"cantidad\": cantidad})\n",
    "            print(f\"Pedido realizado para el producto: {producto.nombre}, cantidad: {cantidad}\")\n",
    "        else:\n",
    "            print(\"No hay suficientes productos disponibles.\")"
   ]
  },
  {
   "cell_type": "code",
   "execution_count": 38,
   "metadata": {},
   "outputs": [],
   "source": [
    "class Empleado(Persona):\n",
    "    def __init__(self, nombre, correo, rol):\n",
    "        super().__init__(nombre, correo)\n",
    "        self.rol = rol\n",
    "\n",
    "    def agregar_comida(self, platillo, inventario):\n",
    "        if inventario.chequear_stock(platillo, 1):\n",
    "            inventario.actualizar_stock(platillo, 1)\n",
    "            print(f\"Comida añadida: {platillo.nombre}\")\n",
    "        else:\n",
    "            print(f\"No hay suficientes productos para agregar {platillo.nombre}.\")\n",
    "\n",
    "    def agregar_bebida(self, bebida, inventario):\n",
    "        if inventario.chequear_stock(bebida, 1):\n",
    "            inventario.actualizar_stock(bebida, 1)\n",
    "            print(f\"Bebida agregada: {bebida.nombre}\")\n",
    "        else:\n",
    "            print(f\"No hay suficientes productos para agregar {bebida.nombre}.\")"
   ]
  },
  {
   "cell_type": "code",
   "execution_count": 39,
   "metadata": {},
   "outputs": [],
   "source": [
    "class Producto_Base:\n",
    "    def __init__(self,nombre,precio):\n",
    "        self.nombre = nombre\n",
    "        self.precio = precio"
   ]
  },
  {
   "cell_type": "code",
   "execution_count": 40,
   "metadata": {},
   "outputs": [],
   "source": [
    "class Bebida(Producto_Base):\n",
    "    def __init__(self,nombre,precio,tamaño,tipo,personalizado=None):\n",
    "        super().__init__(nombre,precio)\n",
    "        self.tamaño = tamaño\n",
    "        self.tipo = tipo\n",
    "        self.personalizado = personalizado if personalizado else []\n",
    "\n",
    "    def agregar_ingrediente(self, ingrediente):\n",
    "        self.personalizado.append(ingrediente)\n",
    "        print(f\"Ingrediente '{ingrediente}' agregado a la bebida {self.nombre}\")\n",
    "\n",
    "    def mostrar_informacion(self):\n",
    "        ingredientes = \", \".join(self.personalizado) if self.personalizado else \"Ninguno\"\n",
    "        print(f\"{self.nombre} ({self.tamaño}, {self.tipo}) - Ingredientes adicionales: {ingredientes}\")"
   ]
  },
  {
   "cell_type": "code",
   "execution_count": 41,
   "metadata": {},
   "outputs": [],
   "source": [
    "class Postre(Producto_Base):\n",
    "    def __init__(self,nombre,precio,es_vegano,sin_gluten):\n",
    "        super().__init__(nombre,precio)\n",
    "        self.es_vegano = es_vegano\n",
    "        self.sin_gluten = sin_gluten\n",
    "\n",
    "    def mostrar_informacion(self):\n",
    "        vegano = \"Sí\" if self.es_vegano else \"No\"\n",
    "        gluten = \"Sí\" if self.sin_gluten else \"No\"\n",
    "        print(f\"{self.nombre}: Vegano: {vegano}, Sin gluten: {gluten}\")"
   ]
  },
  {
   "cell_type": "code",
   "execution_count": 42,
   "metadata": {},
   "outputs": [],
   "source": [
    "class Inventario:\n",
    "    def __init__(self):\n",
    "        self.stock = {}\n",
    "    def agregar_producto(self, producto, cantidad):\n",
    "        if producto.nombre in self.stock:\n",
    "            self.stock[producto.nombre] += cantidad\n",
    "        else:\n",
    "            self.stock[producto.nombre] = cantidad\n",
    "\n",
    "    def chequear_stock(self, producto, cantidad):\n",
    "        if producto.nombre in self.stock and self.stock[producto.nombre] >= cantidad:\n",
    "            return True\n",
    "        return False\n",
    "\n",
    "    def actualizar_stock(self, producto, cantidad):\n",
    "        if self.chequear_stock(producto, cantidad):\n",
    "            self.stock[producto.nombre] -= cantidad\n",
    "        else:\n",
    "            print(\"No hay suficiente stock para actualizar.\")"
   ]
  },
  {
   "cell_type": "code",
   "execution_count": 43,
   "metadata": {},
   "outputs": [],
   "source": [
    "class Pedido:\n",
    "    def __init__(self):\n",
    "        self.productos = []\n",
    "        self.estado = \"Pendiente\"\n",
    "        self.total = 0\n",
    "\n",
    "    def agregar_producto(self, producto, cantidad):\n",
    "        self.productos.append({\"producto\": producto, \"cantidad\": cantidad})\n",
    "        self.total += producto.precio * cantidad\n",
    "\n",
    "    def mostrar_pedido(self):\n",
    "        print(f\"Estado del pedido: {self.estado}\")\n",
    "        for item in self.productos:\n",
    "            print(f\"Producto: {item['producto'].nombre}, Cantidad: {item['cantidad']}\")\n",
    "        print(f\"Total: ${self.total}\")"
   ]
  },
  {
   "cell_type": "code",
   "execution_count": 44,
   "metadata": {},
   "outputs": [],
   "source": [
    "class Promocion:\n",
    "    def __init__(self, descuento, condiciones):\n",
    "        self.descuento = descuento\n",
    "        self.condiciones = condiciones\n",
    "\n",
    "    def aplicar_descuento(self, pedido):\n",
    "        if self.condiciones(pedido):\n",
    "            descuento = (pedido.total * self.descuento) / 100\n",
    "            pedido.total -= descuento\n",
    "            print(f\"Descuento aplicado: ${descuento}\")\n",
    "        else:\n",
    "            print(\"No se cumple con las condiciones para aplicar el descuento.\")     "
   ]
  },
  {
   "cell_type": "code",
   "execution_count": 45,
   "metadata": {},
   "outputs": [
    {
     "name": "stdout",
     "output_type": "stream",
     "text": [
      "Waffles con miel y zarzamora: Vegano: No, Sin gluten: Sí\n",
      "Helado Napolitano: Vegano: No, Sin gluten: Sí\n",
      "Cafe (Pequeño, Frio) - Ingredientes adicionales: Ninguno\n",
      "Ingrediente 'Leche de almendra' agregado a la bebida Cafe\n",
      "Ingrediente 'Canela' agregado a la bebida Cafe\n",
      "Cafe (Pequeño, Frio) - Ingredientes adicionales: Leche de almendra, Canela\n",
      "La persona Gerard fue registrada con el correo gerard@mail.com\n",
      "Estado del pedido: Pendiente\n",
      "Producto: Cafe, Cantidad: 5\n",
      "Producto: Helado Napolitano, Cantidad: 4\n",
      "Total: $63\n",
      "Descuento aplicado: $11.97\n",
      "Estado del pedido: Pendiente\n",
      "Producto: Cafe, Cantidad: 5\n",
      "Producto: Helado Napolitano, Cantidad: 4\n",
      "Total: $51.03\n",
      "Comida añadida: Helado Napolitano\n",
      "\n",
      "Estado del inventario:\n",
      "Cafe: 15 piezas\n",
      "Jugo de betabel: 9 piezas\n",
      "Waffles con miel y zarzamora: 66 piezas\n",
      "Helado Napolitano: 75 piezas\n"
     ]
    }
   ],
   "source": [
    "# Crear productos\n",
    "bebida1 = Bebida(\"Cafe\", 3, \"Pequeño\", \"Frio\")\n",
    "bebida2 = Bebida(\"Jugo de betabel\", 5, \"Grande\", \"Frio\")\n",
    "postre1 = Postre(\"Waffles con miel y zarzamora\", 7, False, True)\n",
    "postre2 = Postre(\"Helado Napolitano\", 12, False, True)\n",
    "\n",
    "# Mostrar info de los productos\n",
    "postre1.mostrar_informacion()\n",
    "postre2.mostrar_informacion()\n",
    "bebida1.mostrar_informacion()\n",
    "\n",
    "# Agregar ingredientes a las bebidas\n",
    "bebida1.agregar_ingrediente(\"Leche de almendra\")\n",
    "bebida1.agregar_ingrediente(\"Canela\")\n",
    "bebida1.mostrar_informacion()\n",
    "\n",
    "# Crear inventario\n",
    "inventario = Inventario()\n",
    "inventario.agregar_producto(bebida1, 15)\n",
    "inventario.agregar_producto(bebida2, 9)\n",
    "inventario.agregar_producto(postre1, 66)\n",
    "inventario.agregar_producto(postre2, 76)\n",
    "\n",
    "# Cliente realiza un pedido\n",
    "cliente1 = Cliente(\"Gerard\", \"gerard@mail.com\")\n",
    "cliente1.registrar()\n",
    "\n",
    "pedido1 = Pedido()\n",
    "pedido1.agregar_producto(bebida1, 5)\n",
    "pedido1.agregar_producto(postre2, 4)\n",
    "pedido1.mostrar_pedido()\n",
    "\n",
    "# Crear promoción\n",
    "def condiciones_descuento(pedido):\n",
    "    return pedido.total >= 30\n",
    "\n",
    "promocion1 = Promocion(19, condiciones_descuento)\n",
    "promocion1.aplicar_descuento(pedido1)\n",
    "\n",
    "pedido1.mostrar_pedido()\n",
    "\n",
    "# Empleado agrega comida al inventario\n",
    "empleado1 = Empleado(\"Minerva\", \"minervamqvlc@mail.com\", \"Cajera\")\n",
    "empleado1.agregar_comida(postre2, inventario)\n",
    "\n",
    "# Mostrar estado del inventario\n",
    "print(\"\\nEstado del inventario:\")\n",
    "for producto, cantidad in inventario.stock.items():\n",
    "    print(f\"{producto}: {cantidad} piezas\")"
   ]
  }
 ],
 "metadata": {
  "kernelspec": {
   "display_name": "Python 3",
   "language": "python",
   "name": "python3"
  },
  "language_info": {
   "codemirror_mode": {
    "name": "ipython",
    "version": 3
   },
   "file_extension": ".py",
   "mimetype": "text/x-python",
   "name": "python",
   "nbconvert_exporter": "python",
   "pygments_lexer": "ipython3",
   "version": "3.13.1"
  }
 },
 "nbformat": 4,
 "nbformat_minor": 2
}
