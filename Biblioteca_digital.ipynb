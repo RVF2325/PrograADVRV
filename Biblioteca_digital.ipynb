{
 "cells": [
  {
   "cell_type": "markdown",
   "metadata": {},
   "source": [
    "# Biblioteca Digital"
   ]
  },
  {
   "cell_type": "code",
   "execution_count": 98,
   "metadata": {},
   "outputs": [],
   "source": [
    "from datetime import datetime, timedelta\n",
    "\n",
    "class Material:\n",
    "    def __init__(self, estado=\"disponible\"):\n",
    "        self.estado = estado "
   ]
  },
  {
   "cell_type": "code",
   "execution_count": 99,
   "metadata": {},
   "outputs": [],
   "source": [
    "class Libro(Material):\n",
    "    def __init__(self, autor, genero, estado=\"disponible\"):\n",
    "        super().__init__(estado)\n",
    "        self.autor = autor\n",
    "        self.genero = genero\n",
    "        "
   ]
  },
  {
   "cell_type": "code",
   "execution_count": 100,
   "metadata": {},
   "outputs": [],
   "source": [
    "class Revista(Material):\n",
    "    def __init__(self, edicion, periodicidad, estado=\"disponible\"):\n",
    "        super().__init__(estado)\n",
    "        self.edicion = edicion\n",
    "        self.periodicidad = periodicidad"
   ]
  },
  {
   "cell_type": "code",
   "execution_count": 101,
   "metadata": {},
   "outputs": [],
   "source": [
    "class MaterialDigital(Material):\n",
    "    def __init__(self, tipo_archivo, enlace_descarga, estado=\"disponible\"):\n",
    "        super().__init__(estado)\n",
    "        self.tipo_archivo = tipo_archivo\n",
    "        self.enlace_descarga = enlace_descarga"
   ]
  },
  {
   "cell_type": "code",
   "execution_count": 102,
   "metadata": {},
   "outputs": [],
   "source": [
    "class Persona:\n",
    "        def __init__(self, nombre):\n",
    "            self.nombre = nombre"
   ]
  },
  {
   "cell_type": "code",
   "execution_count": 103,
   "metadata": {},
   "outputs": [],
   "source": [
    "class Usuario(Persona):\n",
    "    def __init__(self, nombre):\n",
    "        super().__init__(nombre)\n",
    "        self.materiales_prestados = []\n",
    "\n",
    "    def consultar_catalogo(self, catalogo, autor=None, genero=None, tipo=None):\n",
    "        return catalogo.buscar_materiales(autor=autor, genero=genero, tipo=tipo)\n",
    "\n",
    "    def prestar_material(self, material, fecha_devolucion):\n",
    "        if material.estado == \"disponible\":\n",
    "            self.materiales_prestados.append((material, fecha_devolucion))\n",
    "            material.estado = \"prestado\"\n",
    "            return True\n",
    "        return False\n",
    "\n",
    "    def devolver_material(self, material):\n",
    "        for m, _ in self.materiales_prestados:\n",
    "            if m == material:\n",
    "                material.estado = \"disponible\"\n",
    "                self.materiales_prestados.remove((m, _))\n",
    "                return True\n",
    "        return False"
   ]
  },
  {
   "cell_type": "code",
   "execution_count": 104,
   "metadata": {},
   "outputs": [],
   "source": [
    "class Bibliotecario(Persona):\n",
    "    def __init__(self, nombre):\n",
    "        super().__init__(nombre)\n",
    "\n",
    "    def agregar_material(self, material, sucursal):\n",
    "        sucursal.agregar_material(material)\n",
    "\n",
    "    def gestionar_prestamos(self, prestamo, sucursal):\n",
    "        sucursal.registrar_prestamo(prestamo)\n"
   ]
  },
  {
   "cell_type": "code",
   "execution_count": 105,
   "metadata": {},
   "outputs": [],
   "source": [
    "class Catalogo:\n",
    "    def __init__(self):\n",
    "        self.materiales = []\n",
    "\n",
    "    def agregar_material(self, material):\n",
    "        self.materiales.append(material)\n",
    "\n",
    "    def eliminar_material(self, material):\n",
    "        if material in self.materiales:\n",
    "            self.materiales.remove(material)\n",
    "\n",
    "    def buscar_materiales(self, autor=None, genero=None, tipo=None):\n",
    "        resultados = []\n",
    "        for material in self.materiales:\n",
    "            if isinstance(material, Libro) and autor and material.autor == autor:\n",
    "                resultados.append(material)\n",
    "            elif isinstance(material, Revista) and genero and material.genero == genero:\n",
    "                resultados.append(material)\n",
    "            elif isinstance(material, MaterialDigital) and tipo and material.tipo_archivo == tipo:\n",
    "                resultados.append(material)\n",
    "        return resultados"
   ]
  },
  {
   "cell_type": "code",
   "execution_count": 106,
   "metadata": {},
   "outputs": [],
   "source": [
    "\n",
    "class Sucursal:\n",
    "    def __init__(self, nombre):\n",
    "        self.nombre = nombre\n",
    "        self.catalogo = Catalogo()\n",
    "        self.prestamos = []\n",
    "\n",
    "    def agregar_material(self, material):\n",
    "        self.catalogo.agregar_material(material)\n",
    "\n",
    "    def registrar_prestamo(self, prestamo):\n",
    "        self.prestamos.append(prestamo)\n",
    "\n",
    "    def transferir_material(self, material, sucursal_destino):\n",
    "        if material in self.catalogo.materiales:\n",
    "            self.catalogo.eliminar_material(material)\n",
    "            sucursal_destino.agregar_material(material)\n",
    "            print(f\"El material '{material.__class__.__name__}' ha sido transferido de {self.nombre} a {sucursal_destino.nombre}.\")\n",
    "        else:\n",
    "            print(f\"El material '{material.__class__.__name__}' no está en el catálogo de {self.nombre}.\")\n",
    "\n",
    "    def consultar_catalogo(self):\n",
    "        return self.catalogo.materiales"
   ]
  },
  {
   "cell_type": "code",
   "execution_count": 107,
   "metadata": {},
   "outputs": [],
   "source": [
    "class Prestamo:\n",
    "    def __init__(self, usuario, material, fecha_prestamo, fecha_devolucion):\n",
    "        self.usuario = usuario\n",
    "        self.material = material\n",
    "        self.fecha_prestamo = fecha_prestamo\n",
    "        self.fecha_devolucion = fecha_devolucion\n",
    "\n",
    "    def calcular_penalizacion(self):\n",
    "        if datetime.now() > self.fecha_devolucion:\n",
    "            return (datetime.now() - self.fecha_devolucion).days * 5\n",
    "        return 0\n"
   ]
  },
  {
   "cell_type": "code",
   "execution_count": 108,
   "metadata": {},
   "outputs": [],
   "source": [
    "class Penalizacion:\n",
    "    def __init__(self, usuario):\n",
    "        self.usuario = usuario\n",
    "        self.multa = 0\n",
    "\n",
    "    def agregar_penalizacion(self, monto):\n",
    "        self.multa += monto\n",
    "\n",
    "    def mostrar_penalizacion(self):\n",
    "        if self.multa > 0:\n",
    "            print(f\"El usuario {self.usuario.nombre} tiene una penalizacion de ${self.multa}\")\n",
    "        else:\n",
    "            print(f\"El usuario {self.usuario.nombre} no tiene penalización\")"
   ]
  },
  {
   "cell_type": "code",
   "execution_count": 109,
   "metadata": {},
   "outputs": [
    {
     "name": "stdout",
     "output_type": "stream",
     "text": [
      "Consulta general del catálogo:\n",
      "Libro: Autor: Thomas Harris, Género: Thriller psicológico\n",
      "Libro: Autor: Dante Aligheri, Género: Ficcion Universal\n",
      "Revista: Edición: 8, Periodicidad: Mensual\n",
      "Material Digital: Tipo de archivo: PDF, Enlace: www.Hogarlibro.com\n",
      "El usuario Carlos no tiene penalización\n",
      "El material 'Libro' ha sido transferido de Surcusal Central a Sucursal Norte.\n",
      "\n",
      "Catálogo después de la transferencia:\n",
      "\n",
      "Sucursal Central:\n",
      "Libro: Autor: Dante Aligheri, Género: Ficcion Universal\n",
      "Revista: Edición: 8, Periodicidad: Mensual\n",
      "Material Digital: Tipo de archivo: PDF, Enlace: www.Hogarlibro.com\n",
      "\n",
      "Sucursal Norte:\n",
      "Libro: Autor: Thomas Harris, Género: Thriller psicológico\n"
     ]
    }
   ],
   "source": [
    "libro1 = Libro(autor=\"Thomas Harris\", genero=\"Thriller psicológico\")\n",
    "libro2 = Libro(autor=\"Dante Aligheri\", genero=\"Ficcion Universal\")\n",
    "revista1 = Revista(edicion=8, periodicidad=\"Mensual\")\n",
    "material_digital1 = MaterialDigital(tipo_archivo=\"PDF\", enlace_descarga=\"www.Hogarlibro.com\")\n",
    "\n",
    "sucursal1 = Sucursal(nombre=\"Surcusal Central\")\n",
    "sucursal2 = Sucursal(nombre=\"Sucursal Norte\")\n",
    "# Crear el catálogo\n",
    "sucursal1.agregar_material(libro1)\n",
    "sucursal1.agregar_material(libro2)\n",
    "sucursal1.agregar_material(revista1)\n",
    "sucursal1.agregar_material(material_digital1)\n",
    "\n",
    "# Crear un usuario\n",
    "usuario1 = Usuario(nombre=\"Carlos\")\n",
    "\n",
    "# Mostrar todos los materiales disponibles en el catálogo\n",
    "print(\"Consulta general del catálogo:\")\n",
    "for material in sucursal1.consultar_catalogo():\n",
    "    if isinstance(material, Libro):\n",
    "        print(f\"Libro: Autor: {material.autor}, Género: {material.genero}\")\n",
    "    elif isinstance(material, Revista):\n",
    "        print(f\"Revista: Edición: {material.edicion}, Periodicidad: {material.periodicidad}\")\n",
    "    elif isinstance(material, MaterialDigital):\n",
    "        print(f\"Material Digital: Tipo de archivo: {material.tipo_archivo}, Enlace: {material.enlace_descarga}\")\n",
    "# Usuario presta material\n",
    "fecha_devolucion = datetime.now() + timedelta(days=7)\n",
    "usuario1.prestar_material(libro1, fecha_devolucion)\n",
    "\n",
    "# Crear préstamo\n",
    "prestamo1 = Prestamo(usuario1, libro1, datetime.now() - timedelta(days=10), fecha_devolucion=fecha_devolucion)\n",
    "\n",
    "# Crear penalización\n",
    "penalizacion = Penalizacion(usuario1)\n",
    "penalizacion.agregar_penalizacion(prestamo1.calcular_penalizacion())\n",
    "penalizacion.mostrar_penalizacion()\n",
    "\n",
    "# Transferir material entre sucursales\n",
    "sucursal1.transferir_material(libro1, sucursal2)\n",
    "\n",
    "# Mostrar el catálogo después de la transferencia\n",
    "print(\"\\nCatálogo después de la transferencia:\")\n",
    "print(\"\\nSucursal Central:\")\n",
    "for material in sucursal1.consultar_catalogo():\n",
    "    if isinstance(material, Libro):\n",
    "        print(f\"Libro: Autor: {material.autor}, Género: {material.genero}\")\n",
    "    elif isinstance(material, Revista):\n",
    "        print(f\"Revista: Edición: {material.edicion}, Periodicidad: {material.periodicidad}\")\n",
    "    elif isinstance(material, MaterialDigital):\n",
    "        print(f\"Material Digital: Tipo de archivo: {material.tipo_archivo}, Enlace: {material.enlace_descarga}\")\n",
    "print(\"\\nSucursal Norte:\")\n",
    "for material in sucursal2.consultar_catalogo():\n",
    "    if isinstance(material, Libro):\n",
    "        print(f\"Libro: Autor: {material.autor}, Género: {material.genero}\")\n",
    "    elif isinstance(material, Revista):\n",
    "        print(f\"Revista: Edición: {material.edicion}, Periodicidad: {material.periodicidad}\")\n",
    "    elif isinstance(material, MaterialDigital):\n",
    "        print(f\"Material Digital: Tipo de archivo: {material.tipo_archivo}, Enlace: {material.enlace_descarga}\")"
   ]
  }
 ],
 "metadata": {
  "kernelspec": {
   "display_name": "Python 3",
   "language": "python",
   "name": "python3"
  },
  "language_info": {
   "codemirror_mode": {
    "name": "ipython",
    "version": 3
   },
   "file_extension": ".py",
   "mimetype": "text/x-python",
   "name": "python",
   "nbconvert_exporter": "python",
   "pygments_lexer": "ipython3",
   "version": "3.13.1"
  }
 },
 "nbformat": 4,
 "nbformat_minor": 2
}
